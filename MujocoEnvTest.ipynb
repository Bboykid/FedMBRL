{
 "cells": [
  {
   "cell_type": "code",
   "execution_count": 1,
   "id": "f11cc474",
   "metadata": {},
   "outputs": [],
   "source": [
    "import gym\n",
    "import mujoco_py"
   ]
  },
  {
   "cell_type": "code",
   "execution_count": 2,
   "id": "a3fc64f4",
   "metadata": {},
   "outputs": [],
   "source": [
    "\"\"\"The code is adapted from gym\"\"\"\n",
    "import os\n",
    "import numpy as np\n",
    "from gym import utils\n",
    "from gym.envs.mujoco import mujoco_env\n",
    "\n",
    "import gym\n",
    "\n",
    "\n",
    "class MyEnv(gym.Env):\n",
    "    def __init__(self, para, **kwargs):\n",
    "        super(MyEnv, self).__init__(**kwargs)\n",
    "        self.para = para\n",
    "\n",
    "\n",
    "tgt1 = '<geom axisangle=\"0 1 0 -3.8\" name=\"bthigh\" pos=\".1 0 -.13\" size=\"0.046 .145\" type=\"capsule\"/>'\n",
    "tgt2 = '<geom axisangle=\"0 1 0 .52\" name=\"fthigh\" pos=\"-.07 0 -.12\" size=\"0.046 .133\" type=\"capsule\"/>'\n",
    "tgt_size = 'size'\n",
    "\n",
    "tgt1_pos = 3707 + 7\n",
    "tgt2_pos = 4594 + 7\n",
    "\n",
    "# 修改为 Windows 风格路径\n",
    "site_packages_dir = 'D:\\\\Anaconda\\\\envs\\\\py3.8\\\\Lib\\\\'\n",
    "\n",
    "asset_path = site_packages_dir + 'site-packages\\\\gym\\\\envs\\\\mujoco\\\\assets\\\\'\n",
    "ori_xml_path = asset_path + 'half_cheetah.xml'\n",
    "\n",
    "\n",
    "def generate_xml(para):\n",
    "    xml_file = 'half_cheetah' + (\"%.2f\" % para)[2:] + '.xml'\n",
    "    xml_file_path = asset_path + xml_file\n",
    "    if not os.path.exists(xml_file_path):\n",
    "        with open(ori_xml_path, 'r') as f:\n",
    "            # We modify the length of the thigh\n",
    "            s = f.read()\n",
    "        bthigh_length = round(143 + (para - 0.5) * 85)\n",
    "        fthigh_length = round(133 + (para - 0.5) * 65)\n",
    "        s_lst = list(s)\n",
    "        s_lst[tgt1_pos: tgt1_pos + 3] = list(str(bthigh_length))\n",
    "        s_lst[tgt2_pos: tgt2_pos + 3] = list(str(fthigh_length))\n",
    "        s_new = ''.join(s_lst)\n",
    "        with open(xml_file_path, 'w') as f_w:\n",
    "            f_w.write(s_new)\n",
    "    return xml_file\n",
    "\n",
    "\n",
    "DEFAULT_CAMERA_CONFIG = {\n",
    "    'distance': 4.0,\n",
    "}\n",
    "\n",
    "\n",
    "class MyHalfCheetahEnv(mujoco_env.MujocoEnv, utils.EzPickle, MyEnv):\n",
    "    def __init__(self,\n",
    "                 para=0.5,\n",
    "                 forward_reward_weight=1.0,\n",
    "                 ctrl_cost_weight=0.1,\n",
    "                 reset_noise_scale=0.1,\n",
    "                 exclude_current_positions_from_observation=True):\n",
    "        MyEnv.__init__(self, para)\n",
    "        para = round(para, 2)\n",
    "        xml_file = generate_xml(para)\n",
    "        utils.EzPickle.__init__(**locals())\n",
    "\n",
    "        self.time = 0\n",
    "\n",
    "        self._forward_reward_weight = forward_reward_weight\n",
    "\n",
    "        self._ctrl_cost_weight = ctrl_cost_weight\n",
    "\n",
    "        self._reset_noise_scale = reset_noise_scale\n",
    "\n",
    "        self._exclude_current_positions_from_observation = (\n",
    "            exclude_current_positions_from_observation)\n",
    "\n",
    "        mujoco_env.MujocoEnv.__init__(self, xml_file, 5)\n",
    "\n",
    "    def control_cost(self, action):\n",
    "        control_cost = self._ctrl_cost_weight * np.sum(np.square(action))\n",
    "        return control_cost\n",
    "\n",
    "    def step(self, action):\n",
    "        x_position_before = self.sim.data.qpos[0]\n",
    "        self.do_simulation(action, self.frame_skip)\n",
    "        x_position_after = self.sim.data.qpos[0]\n",
    "        x_velocity = ((x_position_after - x_position_before)\n",
    "                      / self.dt)\n",
    "\n",
    "        ctrl_cost = self.control_cost(action)\n",
    "\n",
    "        forward_reward = self._forward_reward_weight * x_velocity\n",
    "\n",
    "        observation = self._get_obs()\n",
    "        reward = forward_reward - ctrl_cost\n",
    "\n",
    "        self.time += 1\n",
    "        if self.time >= 1000:\n",
    "            done = True\n",
    "            self.time = 0\n",
    "        else:\n",
    "            done = False\n",
    "        info = {\n",
    "            'x_position': x_position_after,\n",
    "            'x_velocity': x_velocity,\n",
    "\n",
    "            'reward_run': forward_reward,\n",
    "            'reward_ctrl': -ctrl_cost\n",
    "        }\n",
    "\n",
    "        return observation, reward, done, info\n",
    "\n",
    "    def _get_obs(self):\n",
    "        position = self.sim.data.qpos.flat.copy()\n",
    "        velocity = self.sim.data.qvel.flat.copy()\n",
    "\n",
    "        if self._exclude_current_positions_from_observation:\n",
    "            position = position[1:]\n",
    "\n",
    "        observation = np.concatenate((position, velocity)).ravel()\n",
    "        return observation\n",
    "\n",
    "    def reset_model(self):\n",
    "        noise_low = -self._reset_noise_scale\n",
    "        noise_high = self._reset_noise_scale\n",
    "\n",
    "        self.time = 0\n",
    "\n",
    "        qpos = self.init_qpos + self.np_random.uniform(\n",
    "            low=noise_low, high=noise_high, size=self.model.nq)\n",
    "        qvel = self.init_qvel + self._reset_noise_scale * self.np_random.randn(\n",
    "            self.model.nv)\n",
    "\n",
    "        self.set_state(qpos, qvel)\n",
    "\n",
    "        observation = self._get_obs()\n",
    "        return observation\n",
    "\n",
    "    def viewer_setup(self):\n",
    "        for key, value in DEFAULT_CAMERA_CONFIG.items():\n",
    "            if isinstance(value, np.ndarray):\n",
    "                getattr(self.viewer.cam, key)[:] = value\n",
    "            else:\n",
    "                setattr(self.viewer.cam, key, value)"
   ]
  },
  {
   "cell_type": "code",
   "execution_count": 12,
   "id": "765fe369",
   "metadata": {},
   "outputs": [],
   "source": [
    "# 创建两个不同的半猎豹环境\n",
    "env1 = MyHalfCheetahEnv(para=0.1)  # 较短的thigh参数\n",
    "env2 = MyHalfCheetahEnv(para=0.5)  \n",
    "env3 = MyHalfCheetahEnv(para=0.9)  # 较长的thigh参数"
   ]
  },
  {
   "cell_type": "code",
   "execution_count": 13,
   "id": "86701e0f",
   "metadata": {},
   "outputs": [],
   "source": [
    "from stable_baselines3 import PPO"
   ]
  },
  {
   "cell_type": "code",
   "execution_count": 14,
   "id": "dd203182",
   "metadata": {},
   "outputs": [
    {
     "name": "stderr",
     "output_type": "stream",
     "text": [
      "D:\\Anaconda\\envs\\py3.8\\lib\\site-packages\\stable_baselines3\\common\\save_util.py:166: UserWarning: Could not deserialize object learning_rate. Consider using `custom_objects` argument to replace this object.\n",
      "Exception: an integer is required (got type bytes)\n",
      "  warnings.warn(\n",
      "D:\\Anaconda\\envs\\py3.8\\lib\\site-packages\\stable_baselines3\\common\\save_util.py:166: UserWarning: Could not deserialize object lr_schedule. Consider using `custom_objects` argument to replace this object.\n",
      "Exception: an integer is required (got type bytes)\n",
      "  warnings.warn(\n",
      "D:\\Anaconda\\envs\\py3.8\\lib\\site-packages\\stable_baselines3\\common\\save_util.py:166: UserWarning: Could not deserialize object clip_range. Consider using `custom_objects` argument to replace this object.\n",
      "Exception: an integer is required (got type bytes)\n",
      "  warnings.warn(\n",
      "D:\\Anaconda\\envs\\py3.8\\lib\\site-packages\\stable_baselines3\\common\\vec_env\\patch_gym.py:95: UserWarning: You loaded a model that was trained using OpenAI Gym. We strongly recommend transitioning to Gymnasium by saving that model again.\n",
      "  warnings.warn(\n"
     ]
    }
   ],
   "source": [
    "model = PPO.load(\"D:/Study/RL_Project/rl-baselines3-zoo-1.7.0/logs/ppo/HalfCheetah-v3_1/HalfCheetah-v3.zip\")"
   ]
  },
  {
   "cell_type": "code",
   "execution_count": 15,
   "id": "c47ed2a3",
   "metadata": {},
   "outputs": [],
   "source": [
    "from stable_baselines3.common.evaluation import evaluate_policy"
   ]
  },
  {
   "cell_type": "code",
   "execution_count": 17,
   "id": "12175114",
   "metadata": {},
   "outputs": [
    {
     "name": "stdout",
     "output_type": "stream",
     "text": [
      "(-1077.4177192560194, 48.68326364451065)\n",
      "(-1067.0930099896389, 70.50206821549904)\n",
      "(-1024.6321264254104, 64.0744645354474)\n",
      "\n",
      "(-1027.258823139091, 59.33840806605491)\n",
      "(-1104.8209268240694, 59.18149967074889)\n"
     ]
    }
   ],
   "source": [
    "print(evaluate_policy(model, env1, n_eval_episodes= 10))\n",
    "print(evaluate_policy(model, env1, n_eval_episodes= 10))\n",
    "print(evaluate_policy(model, env1, n_eval_episodes= 10))\n",
    "print()\n",
    "print(evaluate_policy(model, env2, n_eval_episodes= 10))\n",
    "print(evaluate_policy(model, env3, n_eval_episodes= 10))"
   ]
  },
  {
   "cell_type": "code",
   "execution_count": 18,
   "id": "a7385481",
   "metadata": {},
   "outputs": [
    {
     "data": {
      "text/plain": [
       "'D:\\\\Anaconda\\\\envs\\\\py3.8\\\\Lib\\\\site-packages\\\\gym\\\\envs\\\\mujoco\\\\assets\\\\'"
      ]
     },
     "execution_count": 18,
     "metadata": {},
     "output_type": "execute_result"
    }
   ],
   "source": [
    "asset_path"
   ]
  },
  {
   "cell_type": "code",
   "execution_count": 19,
   "id": "4f4f4b89",
   "metadata": {},
   "outputs": [
    {
     "name": "stdout",
     "output_type": "stream",
     "text": [
      "Files have differences at the following lines:\n",
      "Line 64:\n",
      "File 1:         <geom axisangle=\"0 1 0 -3.8\" name=\"bthigh\" pos=\".1 0 -.13\" size=\"0.046 .109\" type=\"capsule\"/>\n",
      "File 2:         <geom axisangle=\"0 1 0 -3.8\" name=\"bthigh\" pos=\".1 0 -.13\" size=\"0.046 .177\" type=\"capsule\"/>\n",
      "\n",
      "Line 76:\n",
      "File 1:         <geom axisangle=\"0 1 0 .52\" name=\"fthigh\" pos=\"-.07 0 -.12\" size=\"0.046 .107\" type=\"capsule\"/>\n",
      "File 2:         <geom axisangle=\"0 1 0 .52\" name=\"fthigh\" pos=\"-.07 0 -.12\" size=\"0.046 .159\" type=\"capsule\"/>\n",
      "\n"
     ]
    }
   ],
   "source": [
    "# 定义文件名\n",
    "file1_path = os.path.join(asset_path, 'half_cheetah10.xml')\n",
    "file2_path = os.path.join(asset_path, 'half_cheetah90.xml')\n",
    "\n",
    "def read_file(file_path):\n",
    "    with open(file_path, 'r') as file:\n",
    "        return file.read()\n",
    "\n",
    "def compare_files(file1_content, file2_content):\n",
    "    differences = []\n",
    "    file1_lines = file1_content.splitlines()\n",
    "    file2_lines = file2_content.splitlines()\n",
    "    \n",
    "    for i, (line1, line2) in enumerate(zip(file1_lines, file2_lines), 1):\n",
    "        if line1 != line2:\n",
    "            differences.append((i, line1, line2))\n",
    "    \n",
    "    return differences\n",
    "\n",
    "# 读取文件内容\n",
    "file1_content = read_file(file1_path)\n",
    "file2_content = read_file(file2_path)\n",
    "\n",
    "# 比较文件\n",
    "differences = compare_files(file1_content, file2_content)\n",
    "\n",
    "# 输出不同之处\n",
    "if differences:\n",
    "    print(\"Files have differences at the following lines:\")\n",
    "    for line_num, line1, line2 in differences:\n",
    "        print(f\"Line {line_num}:\")\n",
    "        print(f\"File 1: {line1}\")\n",
    "        print(f\"File 2: {line2}\")\n",
    "        print(\"\")\n",
    "else:\n",
    "    print(\"Files are identical.\")"
   ]
  },
  {
   "cell_type": "code",
   "execution_count": null,
   "id": "65d92ff8",
   "metadata": {},
   "outputs": [],
   "source": []
  }
 ],
 "metadata": {
  "kernelspec": {
   "display_name": "py3.8",
   "language": "python",
   "name": "py3.8"
  },
  "language_info": {
   "codemirror_mode": {
    "name": "ipython",
    "version": 3
   },
   "file_extension": ".py",
   "mimetype": "text/x-python",
   "name": "python",
   "nbconvert_exporter": "python",
   "pygments_lexer": "ipython3",
   "version": "3.8.12"
  }
 },
 "nbformat": 4,
 "nbformat_minor": 5
}
