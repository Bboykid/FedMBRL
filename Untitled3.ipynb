{
 "cells": [
  {
   "cell_type": "code",
   "execution_count": 1,
   "id": "12b0c942",
   "metadata": {},
   "outputs": [],
   "source": [
    "import sys\n",
    "sys.path.append(\"F:/AI/ACC_ENV\")\n"
   ]
  },
  {
   "cell_type": "code",
   "execution_count": 2,
   "id": "7b86c538",
   "metadata": {},
   "outputs": [],
   "source": [
    "from my_highway_env.envs.car_following_env_by_config_dynamical import CarFollowingEnv"
   ]
  },
  {
   "cell_type": "code",
   "execution_count": 22,
   "id": "e4b1cb47",
   "metadata": {},
   "outputs": [],
   "source": [
    "dataset_path_train = \"D:/Dataset/data/CarFollowing/benchmark/\" + \"NGSIM_I_80\" + \"_\" + \"train\" + \"_data.npy\"\n",
    "# dataset_path_val = \"/ai/syf/ACC/Dataset/ProcessedData/NGSIM_I_80_val_data_C.npy\"\n",
    "obs_type = 'BaselineAccObservation'\n",
    "PF = 10\n",
    "\n",
    "env_config_NGSIM_train_1 = {\n",
    "    'observation': {\"type\": obs_type, 'noise': False},\n",
    "    'action': {\"type\": \"ContinuousAction\", \"acceleration_range\": (-4, 2),\"jerk_max\":60,'lateral':False,\"dynamical\": False},\n",
    "    # 'dataset_path': \"D:/Dataset/data/CarFollowing/benchmark/\" + \"NGSIM_I_80\" + \"_\" + \"train\" + \"_data.npy\",\n",
    "    'dataset_path': dataset_path_train,\n",
    "    'simulation_frequency':10,\n",
    "    'policy_frequency': PF,\n",
    "\t'vehicle': {\"tau\": 0, \"delay\": 0},\n",
    "}\n",
    "\n",
    "env_config_NGSIM_train_2 = {\n",
    "    'observation': {\"type\": obs_type, 'noise': False},\n",
    "    'action': {\"type\": \"ContinuousAction\", \"acceleration_range\": (-4, 2),\"jerk_max\":60,'lateral':False,\"dynamical\": False},\n",
    "     # 'dataset_path': \"D:/Dataset/data/CarFollowing/benchmark/\" + \"NGSIM_I_80\" + \"_\" + \"train\" + \"_data.npy\",\n",
    "    'dataset_path': dataset_path_train,\n",
    "    'simulation_frequency':10,\n",
    "    'policy_frequency': PF,\n",
    "\t'vehicle': {\"tau\": 0.2, \"delay\": 0},\n",
    "}\n",
    "\n",
    "env_config_NGSIM_train_3 = {\n",
    "    'observation': {\"type\": obs_type, 'noise': False},\n",
    "    'action': {\"type\": \"ContinuousAction\", \"acceleration_range\": (-4, 2),\"jerk_max\":60,'lateral':False,\"dynamical\": False},\n",
    "     # 'dataset_path': \"D:/Dataset/data/CarFollowing/benchmark/\" + \"NGSIM_I_80\" + \"_\" + \"train\" + \"_data.npy\",\n",
    "    'dataset_path': dataset_path_train,\n",
    "    'simulation_frequency':10,\n",
    "    'policy_frequency': PF,\n",
    "\t'vehicle': {\"tau\": 0.4, \"delay\": 0},\n",
    "}"
   ]
  },
  {
   "cell_type": "code",
   "execution_count": 23,
   "id": "4f231d61",
   "metadata": {},
   "outputs": [],
   "source": [
    "env = CarFollowingEnv(env_config_NGSIM_train_1)"
   ]
  },
  {
   "cell_type": "code",
   "execution_count": 24,
   "id": "7dc53282",
   "metadata": {},
   "outputs": [
    {
     "data": {
      "text/plain": [
       "array([41.410255 , 24.624468 , 21.746164 , -2.8783035, -0.6748754],\n",
       "      dtype=float32)"
      ]
     },
     "execution_count": 24,
     "metadata": {},
     "output_type": "execute_result"
    }
   ],
   "source": [
    "env.reset()"
   ]
  },
  {
   "cell_type": "code",
   "execution_count": 65,
   "id": "c7ed2636",
   "metadata": {},
   "outputs": [],
   "source": [
    "__credits__ = [\"Carlos Luis\"]\n",
    "\n",
    "from os import path\n",
    "from typing import Optional\n",
    "\n",
    "import numpy as np\n",
    "import copy\n",
    "import gym\n",
    "import torch\n",
    "\n",
    "DEFAULT_X = np.pi\n",
    "DEFAULT_Y = 1.0\n",
    "\n",
    "'''\n",
    "    model-based environment 构建注意事项\n",
    "        1. ensemble models: 随机选择\n",
    "        2. device设置统一\n",
    "        3. space范围clip\n",
    "        4. reward 返回值设置\n",
    "        5. terminal函数设定\n",
    "        \n",
    "    此环境(MB_PendulumEnv)通过sb3的env_checker\n",
    "    训练时需要观察models的更新。\n",
    "'''\n",
    "\n",
    "\n",
    "class MB_CarFollowing(gym.Env):\n",
    "\n",
    "    def __init__(self, real_env, models, device):\n",
    "        \n",
    "\t\t\n",
    "        # This will throw a warning in tests/envs/test_envs in utils/env_checker.py as the space is not symmetric\n",
    "        #   or normalised as max_torque == 2 by default. Ignoring the issue here as the default settings are too old\n",
    "        #   to update to follow the gymnasium api\n",
    "        self.action_space = copy.deepcopy(real_env.action_space)\n",
    "        self.observation_space = copy.deepcopy(real_env.observation_space)\n",
    "        '''\n",
    "        \tenv models\n",
    "        '''\n",
    "        self.models = models\n",
    "        self.device = device\n",
    "        self.real_env = real_env\n",
    "        \n",
    "        self.TTC_threshold = real_env.TTC_threshold\n",
    "        self.PF = real_env.config['policy_frequency']\n",
    "        self.acc_th = real_env.acc_th\n",
    "        self.acc_max = real_env.acc_max\n",
    "\n",
    "    def step(self, u):\n",
    "        \n",
    "        self.cur_model = self.models[np.random.randint(0, len(self.models))]\n",
    "        last_obs = self.obs  # th := theta\n",
    "        \n",
    "        reward = self._get_reward(self.obs, u)\n",
    "        \n",
    "        next_obs = self._get_obs_by_model(last_obs, action=u)\n",
    "        self.obs = next_obs\n",
    "        self.time_step_cnt += 1\n",
    "        terminal = self._is_terminal(next_obs)\n",
    "\n",
    "        # truncation=False as the time limit is handled by the `TimeLimit` wrapper added during `make`\n",
    "        return next_obs, reward, terminal, {}\n",
    "\n",
    "    def reset(self, *, seed: Optional[int] = None, options: Optional[dict] = None):\n",
    "        obs = self.real_env.reset()\n",
    "        self.last_acceleration = obs[4]\n",
    "        self.time_step_cnt = 0\n",
    "        self.obs = obs\n",
    "        return self.real_env.reset()\n",
    "\n",
    "    def _get_obs(self):\n",
    "        theta, thetadot = self.state\n",
    "        return np.array([np.cos(theta), np.sin(theta), thetadot], dtype=np.float32)\n",
    "    \n",
    "    def _get_obs_by_model(self, obs, action):\n",
    "        obs_tensor = torch.tensor(obs, dtype=torch.float32)\n",
    "        action_tensor = torch.tensor(action, dtype=torch.float32)\n",
    "        input_d = torch.cat((obs_tensor, action_tensor))\n",
    "        input_d = input_d.to(self.device)\n",
    "        output_tensor = self.cur_model.forward(input_d)\n",
    "        output_np = output_tensor.detach().cpu().numpy()\n",
    "        \n",
    "        obs = self.obs + output_np\n",
    "        \n",
    "        # Clip the output to the observation space range\n",
    "        obs_clipped = np.clip(obs, self.observation_space.low, self.observation_space.high)\n",
    "        return obs_clipped\n",
    "        \n",
    "    def _get_reward(self, obs, action):\n",
    "        front_space, ego_speed, front_speed, related_speed, ego_acc = obs\n",
    "        \n",
    "        acceleration = ego_acc\n",
    "        jerk = (acceleration - self.last_acceleration) * self.PF\n",
    "        self.last_acceleration = acceleration\n",
    "        self.jerk = jerk\n",
    "        if related_speed == 0:\n",
    "            related_speed = 0.0001\n",
    "        \n",
    "        self.TTC = -front_space/related_speed\n",
    "\n",
    "        if self.TTC >= 0 and self.TTC <= self.TTC_threshold:\n",
    "            fTTC = np.log(self.TTC/self.TTC_threshold)\n",
    "        else:\n",
    "            fTTC = 0\n",
    "\n",
    "        fSafety = fTTC\n",
    "\n",
    "        mu = 0.422618\n",
    "        sigma = 0.43659\n",
    "        hdw = front_space/ego_speed\n",
    "        if hdw <= 0:\n",
    "            fHdw = -1\n",
    "        else:\n",
    "            fHdw = (np.exp(-(np.log(hdw) - mu) ** 2 / (2 * sigma ** 2)\n",
    "                           ) / (hdw * sigma * np.sqrt(2 * np.pi)))\n",
    "        \n",
    "        fEffic = fHdw\n",
    "        \n",
    "        acc_abs = abs(acceleration)\n",
    "        jerk_abs = abs(jerk)\n",
    "        acc_abs = min(acc_abs,4)\n",
    "        jerk_abs = min(jerk_abs,60)\n",
    "        if acc_abs > self.acc_th:\n",
    "            fAcc = - ((acc_abs - self.acc_th)/(self.acc_max - self.acc_th))**2\n",
    "        else:\n",
    "            fAcc = 0\n",
    "        \n",
    "        # fJerk = -(jerk_abs/60)**2\n",
    "        fJerk = -((jerk**2)/ (self.PF * 6)**2)\n",
    "        fJerk = float(fJerk)\n",
    "        fAcc = float(fAcc)\n",
    "        fComf = fJerk\n",
    "        \n",
    "        self.fJerk = float(fJerk)\n",
    "        self.fAcc = float(fAcc)\n",
    "        \n",
    "        if front_space < 0:\n",
    "            fCrash = -100\n",
    "        else:\n",
    "            fCrash = 0\n",
    "            \n",
    "        totalReward = fSafety + fComf + fEffic + fCrash\n",
    "\n",
    "        self.total_reward = float(totalReward)\n",
    "        self.total_risk = float(fSafety)\n",
    "        self.front_risk = float(fSafety)\n",
    "        self.fRisk = float(fSafety)\n",
    "        # self.front_left_collision_risk = (f_left_weight, f_left_risk)\n",
    "        # self.rear_left_collision_risk = (r_left_weight, r_left_risk)\n",
    "        # self.front_right_collision_risk = (f_right_weight, f_right_risk)\n",
    "        # self.rear_right_collision_risk = (r_right_weight, r_right_risk)\n",
    "        self.fComf = float(fComf)\n",
    "        self.fEffic = float(fEffic)\n",
    "\n",
    "        return float(totalReward)\n",
    "        \n",
    "    \n",
    "    def _is_terminal(self, obs):\n",
    "        if obs[0] <= 0 or self.time_step_cnt > 100:\n",
    "            return False\n",
    "        else:\n",
    "            return True\n",
    "\n",
    "    def close(self):\n",
    "        if self.screen is not None:\n",
    "            import pygame\n",
    "\n",
    "            pygame.display.quit()\n",
    "            pygame.quit()\n",
    "            self.isopen = False\n",
    "            \n",
    "    def _recover_theta(self,obs1, obs2):\n",
    "        theta = np.arctan2(obs2, obs1)\n",
    "        return theta\n",
    "\n",
    "\n",
    "def angle_normalize(x):\n",
    "    return ((x + np.pi) % (2 * np.pi)) - np.pi"
   ]
  },
  {
   "cell_type": "code",
   "execution_count": 66,
   "id": "6abeeb9b",
   "metadata": {},
   "outputs": [
    {
     "data": {
      "text/plain": [
       "PredictionModel(\n",
       "  (net): Sequential(\n",
       "    (0): Linear(in_features=6, out_features=256, bias=True)\n",
       "    (1): ReLU()\n",
       "    (2): Linear(in_features=256, out_features=256, bias=True)\n",
       "    (3): ReLU()\n",
       "    (4): Linear(in_features=256, out_features=5, bias=True)\n",
       "  )\n",
       ")"
      ]
     },
     "execution_count": 66,
     "metadata": {},
     "output_type": "execute_result"
    }
   ],
   "source": [
    "from PredictionModel import PredictionModel\n",
    "model  =  PredictionModel(obs_size= env.observation_space.shape[0], action_size=env.action_space.shape[0])\n",
    "model.cuda()"
   ]
  },
  {
   "cell_type": "code",
   "execution_count": 67,
   "id": "95a82b1f",
   "metadata": {},
   "outputs": [],
   "source": [
    "mb_cf_env = MB_CarFollowing(real_env=env, models= [model], device='cuda')"
   ]
  },
  {
   "cell_type": "code",
   "execution_count": 68,
   "id": "ff2caa9b",
   "metadata": {},
   "outputs": [
    {
     "data": {
      "text/plain": [
       "array([14.161553 , 10.247312 ,  6.309777 , -3.9375348, -0.6313247],\n",
       "      dtype=float32)"
      ]
     },
     "execution_count": 68,
     "metadata": {},
     "output_type": "execute_result"
    }
   ],
   "source": [
    "mb_cf_env.reset()"
   ]
  },
  {
   "cell_type": "code",
   "execution_count": 69,
   "id": "1726fe37",
   "metadata": {},
   "outputs": [
    {
     "data": {
      "text/plain": [
       "(array([79.97539  , 27.115202 , 16.910925 , -6.69385  ,  4.0711794],\n",
       "       dtype=float32),\n",
       " 0.03913663325667282,\n",
       " True,\n",
       " {})"
      ]
     },
     "execution_count": 69,
     "metadata": {},
     "output_type": "execute_result"
    }
   ],
   "source": [
    "mb_cf_env.step(mb_cf_env.action_space.sample())"
   ]
  },
  {
   "cell_type": "code",
   "execution_count": 70,
   "id": "cf0727f7",
   "metadata": {},
   "outputs": [],
   "source": [
    "from stable_baselines3.common.env_checker import check_env"
   ]
  },
  {
   "cell_type": "code",
   "execution_count": 71,
   "id": "5a866cba",
   "metadata": {},
   "outputs": [
    {
     "ename": "AssertionError",
     "evalue": "Your environment must inherit from the gymnasium.Env class cf. https://gymnasium.farama.org/api/env/",
     "output_type": "error",
     "traceback": [
      "\u001b[1;31m---------------------------------------------------------------------------\u001b[0m",
      "\u001b[1;31mAssertionError\u001b[0m                            Traceback (most recent call last)",
      "Input \u001b[1;32mIn [71]\u001b[0m, in \u001b[0;36m<cell line: 1>\u001b[1;34m()\u001b[0m\n\u001b[1;32m----> 1\u001b[0m \u001b[43mcheck_env\u001b[49m\u001b[43m(\u001b[49m\u001b[43mmb_cf_env\u001b[49m\u001b[43m)\u001b[49m\n",
      "File \u001b[1;32mD:\\Anaconda\\envs\\py3.8\\lib\\site-packages\\stable_baselines3\\common\\env_checker.py:396\u001b[0m, in \u001b[0;36mcheck_env\u001b[1;34m(env, warn, skip_render_check)\u001b[0m\n\u001b[0;32m    381\u001b[0m \u001b[38;5;28;01mdef\u001b[39;00m \u001b[38;5;21mcheck_env\u001b[39m(env: gym\u001b[38;5;241m.\u001b[39mEnv, warn: \u001b[38;5;28mbool\u001b[39m \u001b[38;5;241m=\u001b[39m \u001b[38;5;28;01mTrue\u001b[39;00m, skip_render_check: \u001b[38;5;28mbool\u001b[39m \u001b[38;5;241m=\u001b[39m \u001b[38;5;28;01mTrue\u001b[39;00m) \u001b[38;5;241m-\u001b[39m\u001b[38;5;241m>\u001b[39m \u001b[38;5;28;01mNone\u001b[39;00m:\n\u001b[0;32m    382\u001b[0m     \u001b[38;5;124;03m\"\"\"\u001b[39;00m\n\u001b[0;32m    383\u001b[0m \u001b[38;5;124;03m    Check that an environment follows Gym API.\u001b[39;00m\n\u001b[0;32m    384\u001b[0m \u001b[38;5;124;03m    This is particularly useful when using a custom environment.\u001b[39;00m\n\u001b[1;32m   (...)\u001b[0m\n\u001b[0;32m    394\u001b[0m \u001b[38;5;124;03m        True by default (useful for the CI)\u001b[39;00m\n\u001b[0;32m    395\u001b[0m \u001b[38;5;124;03m    \"\"\"\u001b[39;00m\n\u001b[1;32m--> 396\u001b[0m     \u001b[38;5;28;01massert\u001b[39;00m \u001b[38;5;28misinstance\u001b[39m(\n\u001b[0;32m    397\u001b[0m         env, gym\u001b[38;5;241m.\u001b[39mEnv\n\u001b[0;32m    398\u001b[0m     ), \u001b[38;5;124m\"\u001b[39m\u001b[38;5;124mYour environment must inherit from the gymnasium.Env class cf. https://gymnasium.farama.org/api/env/\u001b[39m\u001b[38;5;124m\"\u001b[39m\n\u001b[0;32m    400\u001b[0m     \u001b[38;5;66;03m# ============= Check the spaces (observation and action) ================\u001b[39;00m\n\u001b[0;32m    401\u001b[0m     _check_spaces(env)\n",
      "\u001b[1;31mAssertionError\u001b[0m: Your environment must inherit from the gymnasium.Env class cf. https://gymnasium.farama.org/api/env/"
     ]
    }
   ],
   "source": [
    "check_env(mb_cf_env)"
   ]
  },
  {
   "cell_type": "code",
   "execution_count": 72,
   "id": "ef5404e9",
   "metadata": {},
   "outputs": [
    {
     "ename": "AssertionError",
     "evalue": "Your environment must inherit from the gymnasium.Env class cf. https://gymnasium.farama.org/api/env/",
     "output_type": "error",
     "traceback": [
      "\u001b[1;31m---------------------------------------------------------------------------\u001b[0m",
      "\u001b[1;31mAssertionError\u001b[0m                            Traceback (most recent call last)",
      "Input \u001b[1;32mIn [72]\u001b[0m, in \u001b[0;36m<cell line: 1>\u001b[1;34m()\u001b[0m\n\u001b[1;32m----> 1\u001b[0m \u001b[43mcheck_env\u001b[49m\u001b[43m(\u001b[49m\u001b[43menv\u001b[49m\u001b[43m)\u001b[49m\n",
      "File \u001b[1;32mD:\\Anaconda\\envs\\py3.8\\lib\\site-packages\\stable_baselines3\\common\\env_checker.py:396\u001b[0m, in \u001b[0;36mcheck_env\u001b[1;34m(env, warn, skip_render_check)\u001b[0m\n\u001b[0;32m    381\u001b[0m \u001b[38;5;28;01mdef\u001b[39;00m \u001b[38;5;21mcheck_env\u001b[39m(env: gym\u001b[38;5;241m.\u001b[39mEnv, warn: \u001b[38;5;28mbool\u001b[39m \u001b[38;5;241m=\u001b[39m \u001b[38;5;28;01mTrue\u001b[39;00m, skip_render_check: \u001b[38;5;28mbool\u001b[39m \u001b[38;5;241m=\u001b[39m \u001b[38;5;28;01mTrue\u001b[39;00m) \u001b[38;5;241m-\u001b[39m\u001b[38;5;241m>\u001b[39m \u001b[38;5;28;01mNone\u001b[39;00m:\n\u001b[0;32m    382\u001b[0m     \u001b[38;5;124;03m\"\"\"\u001b[39;00m\n\u001b[0;32m    383\u001b[0m \u001b[38;5;124;03m    Check that an environment follows Gym API.\u001b[39;00m\n\u001b[0;32m    384\u001b[0m \u001b[38;5;124;03m    This is particularly useful when using a custom environment.\u001b[39;00m\n\u001b[1;32m   (...)\u001b[0m\n\u001b[0;32m    394\u001b[0m \u001b[38;5;124;03m        True by default (useful for the CI)\u001b[39;00m\n\u001b[0;32m    395\u001b[0m \u001b[38;5;124;03m    \"\"\"\u001b[39;00m\n\u001b[1;32m--> 396\u001b[0m     \u001b[38;5;28;01massert\u001b[39;00m \u001b[38;5;28misinstance\u001b[39m(\n\u001b[0;32m    397\u001b[0m         env, gym\u001b[38;5;241m.\u001b[39mEnv\n\u001b[0;32m    398\u001b[0m     ), \u001b[38;5;124m\"\u001b[39m\u001b[38;5;124mYour environment must inherit from the gymnasium.Env class cf. https://gymnasium.farama.org/api/env/\u001b[39m\u001b[38;5;124m\"\u001b[39m\n\u001b[0;32m    400\u001b[0m     \u001b[38;5;66;03m# ============= Check the spaces (observation and action) ================\u001b[39;00m\n\u001b[0;32m    401\u001b[0m     _check_spaces(env)\n",
      "\u001b[1;31mAssertionError\u001b[0m: Your environment must inherit from the gymnasium.Env class cf. https://gymnasium.farama.org/api/env/"
     ]
    }
   ],
   "source": [
    "check_env(env)"
   ]
  },
  {
   "cell_type": "code",
   "execution_count": 73,
   "id": "30506754",
   "metadata": {},
   "outputs": [],
   "source": [
    "import gym\n",
    "import gymnasium as gymnasium\n",
    "import gymnasium.spaces as spaces\n",
    "import numpy as np\n",
    "\n",
    "class GymToGymnasiumWrapper(gymnasium.Env):\n",
    "    def __init__(self, gym_env):\n",
    "        super(GymToGymnasiumWrapper, self).__init__()\n",
    "        self.gym_env = gym_env\n",
    "        # 将 gym 的 space 转换为 gymnasium 的 space\n",
    "        self.observation_space = self._convert_space(gym_env.observation_space)\n",
    "        self.action_space = self._convert_space(gym_env.action_space)\n",
    "\n",
    "    def reset(self, *, seed=None, options=None):\n",
    "        if seed is not None:\n",
    "            self.gym_env.seed(seed)\n",
    "        observation = self.gym_env.reset()\n",
    "        return observation, {}\n",
    "\n",
    "    def step(self, action):\n",
    "        observation, reward, done, info = self.gym_env.step(action)\n",
    "        return observation, reward, done, False, info\n",
    "\n",
    "    def render(self, mode=\"human\"):\n",
    "        return self.gym_env.render(mode=mode)\n",
    "\n",
    "    def close(self):\n",
    "        return self.gym_env.close()\n",
    "\n",
    "    def seed(self, seed=None):\n",
    "        return self.gym_env.seed(seed)\n",
    "\n",
    "    def _convert_space(self, space):\n",
    "        \"\"\"将 gym 空间转换为 gymnasium 空间\"\"\"\n",
    "        if isinstance(space, gym.spaces.Box):\n",
    "            return spaces.Box(low=space.low, high=space.high, shape=space.shape, dtype=space.dtype)\n",
    "        elif isinstance(space, gym.spaces.Discrete):\n",
    "            return spaces.Discrete(n=space.n)\n",
    "        elif isinstance(space, gym.spaces.MultiDiscrete):\n",
    "            return spaces.MultiDiscrete(nvec=space.nvec)\n",
    "        elif isinstance(space, gym.spaces.MultiBinary):\n",
    "            return spaces.MultiBinary(n=space.n)\n",
    "        elif isinstance(space, gym.spaces.Tuple):\n",
    "            return spaces.Tuple([self._convert_space(s) for s in space.spaces])\n",
    "        elif isinstance(space, gym.spaces.Dict):\n",
    "            return spaces.Dict({key: self._convert_space(s) for key, s in space.spaces.items()})\n",
    "        else:\n",
    "            raise NotImplementedError(f\"空间类型 {type(space)} 还未实现转换\")\n",
    "\n",
    "# 示例用法\n",
    "gym_env = gym.make('CartPole-v1')  # Gym 环境\n",
    "gymnasium_env = GymToGymnasiumWrapper(gym_env)\n",
    "\n",
    "# 现在可以正常使用 stable-baselines3 的 check_env 进行环境检查\n",
    "from stable_baselines3.common.env_checker import check_env\n",
    "check_env(gymnasium_env)\n"
   ]
  },
  {
   "cell_type": "code",
   "execution_count": 74,
   "id": "cf28418d",
   "metadata": {},
   "outputs": [],
   "source": [
    "env_ga = GymToGymnasiumWrapper(env)"
   ]
  },
  {
   "cell_type": "code",
   "execution_count": 75,
   "id": "104a97c4",
   "metadata": {},
   "outputs": [],
   "source": [
    "check_env(env_ga)"
   ]
  },
  {
   "cell_type": "code",
   "execution_count": 76,
   "id": "3412c583",
   "metadata": {},
   "outputs": [],
   "source": [
    "mb_env_ga = GymToGymnasiumWrapper(mb_cf_env)\n",
    "check_env(mb_env_ga)"
   ]
  },
  {
   "cell_type": "code",
   "execution_count": null,
   "id": "30f6a0bf",
   "metadata": {},
   "outputs": [],
   "source": []
  }
 ],
 "metadata": {
  "kernelspec": {
   "display_name": "py3.8",
   "language": "python",
   "name": "py3.8"
  },
  "language_info": {
   "codemirror_mode": {
    "name": "ipython",
    "version": 3
   },
   "file_extension": ".py",
   "mimetype": "text/x-python",
   "name": "python",
   "nbconvert_exporter": "python",
   "pygments_lexer": "ipython3",
   "version": "3.8.12"
  }
 },
 "nbformat": 4,
 "nbformat_minor": 5
}
